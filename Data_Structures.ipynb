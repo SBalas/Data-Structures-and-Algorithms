{
 "cells": [
  {
   "cell_type": "markdown",
   "metadata": {},
   "source": [
    "# Python review - Data Structures"
   ]
  },
  {
   "cell_type": "markdown",
   "metadata": {},
   "source": [
    "## 1.8 Data types\n",
    "- Lists - mutable, diff types \n",
    "- Strings - non mutable\n",
    "- Set - stores only unique values\n",
    "- Tuples - similar to lists but non mutable\n",
    "- Dictionaries - keys with some values/strings\n"
   ]
  },
  {
   "cell_type": "code",
   "execution_count": 24,
   "metadata": {},
   "outputs": [
    {
     "data": {
      "text/plain": [
       "224"
      ]
     },
     "execution_count": 24,
     "metadata": {},
     "output_type": "execute_result"
    }
   ],
   "source": [
    "a = {'david':1410,'brad':1137}\n",
    "a['sid'] = 224\n",
    "\n",
    "a.keys()\n",
    "list(a.keys())\n",
    "a.values()\n",
    "list(a.values())\n",
    "\n",
    "a.items()\n",
    "\n",
    "a.get('sid')\n"
   ]
  },
  {
   "cell_type": "markdown",
   "metadata": {},
   "source": [
    "## 1.9 Input output\n",
    ".... and string formatting"
   ]
  },
  {
   "cell_type": "code",
   "execution_count": 40,
   "metadata": {},
   "outputs": [
    {
     "data": {
      "text/plain": [
       "9"
      ]
     },
     "execution_count": 40,
     "metadata": {},
     "output_type": "execute_result"
    }
   ],
   "source": [
    "a = \"siddharth\"\n",
    "len(a)"
   ]
  },
  {
   "cell_type": "markdown",
   "metadata": {},
   "source": [
    "## 1.10 Control structures\n",
    "- list comprehension --- create list in single line"
   ]
  },
  {
   "cell_type": "code",
   "execution_count": 43,
   "metadata": {},
   "outputs": [
    {
     "data": {
      "text/plain": [
       "[1, 9, 25, 49, 81]"
      ]
     },
     "execution_count": 43,
     "metadata": {},
     "output_type": "execute_result"
    }
   ],
   "source": [
    "sqlist=[x*x for x in range(1,11) if x%2 != 0]\n",
    "sqlist"
   ]
  },
  {
   "cell_type": "code",
   "execution_count": 44,
   "metadata": {},
   "outputs": [
    {
     "data": {
      "text/plain": [
       "['C', 'M', 'P', 'R', 'H', 'N', 'S', 'N']"
      ]
     },
     "execution_count": 44,
     "metadata": {},
     "output_type": "execute_result"
    }
   ],
   "source": [
    "[ch.upper() for ch in 'comprehension' if ch not in 'aeiou']"
   ]
  },
  {
   "cell_type": "code",
   "execution_count": 85,
   "metadata": {},
   "outputs": [
    {
     "data": {
      "text/plain": [
       "['o', 'd', 't', 'c', 'b', 'i', 'r', 'a', 'g']"
      ]
     },
     "execution_count": 85,
     "metadata": {},
     "output_type": "execute_result"
    }
   ],
   "source": [
    "# try to extract unique letters using list comprehension\n",
    "wordlist = ['cat','dog','rabbit']\n",
    "letterlist = [ ]\n",
    "\n",
    "\n",
    "for word in wordlist:\n",
    "    for i in range(len(word)):\n",
    "        letterlist.append(word[i])\n",
    "\n",
    "letterlist\n",
    "\n",
    "# this gives all the letters\n",
    "a = [word[i] for word in wordlist for i in range(len(word))]\n",
    "\n",
    "# get unique letters\n",
    "set(a)\n",
    "\n",
    "# convert to list\n",
    "list(set(a)) "
   ]
  },
  {
   "cell_type": "markdown",
   "metadata": {},
   "source": [
    "## 1.11 Exception handling\n",
    "- ```ValueError```\n",
    "- ```RuntimeError```"
   ]
  },
  {
   "cell_type": "code",
   "execution_count": 87,
   "metadata": {},
   "outputs": [
    {
     "data": {
      "text/plain": [
       "97"
      ]
     },
     "execution_count": 87,
     "metadata": {},
     "output_type": "execute_result"
    }
   ],
   "source": [
    "# gives number representing the unicode char\n",
    "ord('a')"
   ]
  },
  {
   "cell_type": "markdown",
   "metadata": {},
   "source": [
    "## Chapter 4 - Basic Data Structures\n",
    "### 4.3 - 4.5 Stacks - Last in First Out\n",
    "- Can choose which end is first\n",
    "- Pop removes and displays last element, while peek only displays last element\n",
    "-  $[0,1,2,3,4] = [bottom,...., top]$"
   ]
  },
  {
   "cell_type": "code",
   "execution_count": 96,
   "metadata": {},
   "outputs": [],
   "source": [
    "class Stack:\n",
    "    def __init__(self):\n",
    "        self.items = []\n",
    "    \n",
    "    def isEmpty(self):\n",
    "        return self.items == []\n",
    "    \n",
    "    # add item\n",
    "    def push(self, item):  \n",
    "        self.items.append(item)\n",
    "    \n",
    "    # remove last element\n",
    "    def pop(self):\n",
    "        return self.items.pop()\n",
    "    \n",
    "    # return last element but not remove\n",
    "    def peek(self):\n",
    "        return self.items[len(self.items) - 1]\n",
    "    \n",
    "    def size(self):\n",
    "        return len(self.items)  \n",
    "    \n",
    "    def get(self):\n",
    "        return self.items\n",
    "    "
   ]
  },
  {
   "cell_type": "code",
   "execution_count": 108,
   "metadata": {},
   "outputs": [
    {
     "name": "stdout",
     "output_type": "stream",
     "text": [
      "[1, 'dog', 'cat', '[10,11,12]']\n",
      "[10,11,12]\n",
      "[10,11,12]\n",
      "[1, 'dog', 'cat']\n"
     ]
    }
   ],
   "source": [
    "s = Stack()\n",
    "s.isEmpty()\n",
    "s.push(1)\n",
    "s.get()\n",
    "s.push('dog')\n",
    "s.push('cat')\n",
    "s.push('[10,11,12]')\n",
    "print(s.get())\n",
    "print(s.peek())\n",
    "print(s.pop())\n",
    "print(s.get())"
   ]
  },
  {
   "cell_type": "markdown",
   "metadata": {},
   "source": [
    "### 4.6 Simple balanced parentheses"
   ]
  },
  {
   "cell_type": "code",
   "execution_count": 110,
   "metadata": {},
   "outputs": [],
   "source": [
    "'''\n",
    "if \"(\" then add to stack\n",
    "if \")\" and empty, not balanced\n",
    "if \")\" found and not empty pop \"(\"\n",
    "\n",
    "'''\n",
    "\n",
    "def parChecker(string):\n",
    "    s = Stack()\n",
    "    balanced = True\n",
    "    index = 0\n",
    "    \n",
    "    # do for whole length and as long as it is balanced\n",
    "    while index < len(string) and balanced:\n",
    "        symbol = string[index]\n",
    "        \n",
    "        if symbol == \"(\":     \n",
    "            s.push(symbol)    \n",
    "        \n",
    "        elif s.isEmpty(): \n",
    "            balanced = False  \n",
    "            \n",
    "        else: \n",
    "            s.pop()            \n",
    "        \n",
    "        index = index + 1\n",
    "    \n",
    "    if balanced and s.isEmpty(): \n",
    "        return True\n",
    "    \n",
    "    else: \n",
    "        return False\n"
   ]
  },
  {
   "cell_type": "code",
   "execution_count": 117,
   "metadata": {},
   "outputs": [
    {
     "data": {
      "text/plain": [
       "False"
      ]
     },
     "execution_count": 117,
     "metadata": {},
     "output_type": "execute_result"
    }
   ],
   "source": [
    "parChecker(\"(()))(\")"
   ]
  },
  {
   "cell_type": "markdown",
   "metadata": {},
   "source": [
    "### 4.7 Balanced symbols - generalized case"
   ]
  },
  {
   "cell_type": "code",
   "execution_count": 119,
   "metadata": {},
   "outputs": [],
   "source": [
    "def parChecker(string):\n",
    "    s = Stack()\n",
    "    balanced = True\n",
    "    index = 0\n",
    "    \n",
    "    # do for whole length and as long as it is balanced\n",
    "    while index < len(string) and balanced:\n",
    "        symbol = string[index]\n",
    "        \n",
    "        if symbol == \"([{]\":     \n",
    "            s.push(symbol)    \n",
    "        \n",
    "        elif s.isEmpty(): \n",
    "            balanced = False  \n",
    "            \n",
    "        else: \n",
    "            top = s.pop()        \n",
    "            \n",
    "            # this removes last element in stack and saves in top\n",
    "            # note that latest symbol element is not added yet... \n",
    "            #... check whether top is mirror of symbol\n",
    "            \n",
    "            if not matches(top, symbol):\n",
    "                balanced  = False\n",
    "        \n",
    "        index = index + 1\n",
    "    \n",
    "    if balanced and s.isEmpty(): \n",
    "        return True\n",
    "    \n",
    "    else: \n",
    "        return False\n",
    "\n",
    "# checks if open and close are mirror images of each other\n",
    "def matches(open,close):\n",
    "    opens = \"([{\"\n",
    "    closers = \")]}\"\n",
    "    return opens.index(open) == closers.index(close)\n"
   ]
  },
  {
   "cell_type": "code",
   "execution_count": 132,
   "metadata": {},
   "outputs": [
    {
     "name": "stdout",
     "output_type": "stream",
     "text": [
      "['a', 'b']\n",
      "b\n",
      "['a']\n"
     ]
    }
   ],
   "source": [
    "s = Stack()\n",
    "s.push(\"a\")\n",
    "s.push(\"b\")\n",
    "print(s.get())\n",
    "\n",
    "test = s.pop()\n",
    "print(test)\n",
    "print(s.get())"
   ]
  },
  {
   "cell_type": "markdown",
   "metadata": {},
   "source": [
    "### 4.8 Converting Decimal Numbers to Binary Numbers\n",
    "- Keep dividing by two, store the remainders in a stack, pop the values into a string to get the binary representation\n",
    "- Similar thing can be done for other bases by dividing by that base\n",
    "\n",
    "### 4.9 Infix, Prefix and Postfix Expressions"
   ]
  },
  {
   "cell_type": "markdown",
   "metadata": {},
   "source": [
    "### 4.10 - 4.12 Queues: First in first out\n",
    "- We assign position 0 as the rear of the queue to insert elements\n",
    "- Pop will then remove elements from the front of the queue\n",
    "\n",
    "- $[0,1,2,3,4] = [rear,...., front]$"
   ]
  },
  {
   "cell_type": "code",
   "execution_count": 155,
   "metadata": {},
   "outputs": [],
   "source": [
    "class Queue:\n",
    "    def __init__(self):\n",
    "        self.items = []\n",
    "    \n",
    "    def isEmpty(self):\n",
    "        return self.items == []\n",
    "    \n",
    "    def enq(self, item):\n",
    "        self.items.insert(0,item)  # inserts item in 0th position\n",
    "\n",
    "    def deq(self):\n",
    "        return self.items.pop()\n",
    "\n",
    "    def size(self):\n",
    "        return len(self.items)\n",
    "    \n",
    "    def get(self):\n",
    "        return self.items"
   ]
  },
  {
   "cell_type": "code",
   "execution_count": 156,
   "metadata": {},
   "outputs": [
    {
     "data": {
      "text/plain": [
       "['b', 'a', 4, 2]"
      ]
     },
     "execution_count": 156,
     "metadata": {},
     "output_type": "execute_result"
    }
   ],
   "source": [
    "q = Queue()\n",
    "q.enq(2)\n",
    "q.enq(4)\n",
    "q.enq('a')\n",
    "q.enq('b')\n",
    "q.get()"
   ]
  },
  {
   "cell_type": "markdown",
   "metadata": {},
   "source": [
    "### 4.13 Simulation: Hot Potato\n",
    "A game where N people are in a circle and pass a ball around. For every M passes, the person with the ball is removed. The last man standing is the winner."
   ]
  },
  {
   "cell_type": "code",
   "execution_count": 197,
   "metadata": {},
   "outputs": [],
   "source": [
    "def hotPotato(namelist, num):\n",
    "    simq = Queue()\n",
    "    for name in namelist:\n",
    "        simq.enq(name)\n",
    "    \n",
    "    print(\"Initial queue: \", simq.get(), \"\\n\")\n",
    "    \n",
    "    # do this until only one person remains\n",
    "    while simq.size() > 1:\n",
    "        \n",
    "        for i in range(num):         # pop and add this number of times\n",
    "            removed = simq.deq()\n",
    "            simq.enq(removed)     # pop first in Q and add him to the end\n",
    "    \n",
    "        print(num, \"people shifted:\", simq.get())\n",
    "        \n",
    "        removed = simq.deq()                   # after num iter, remove person in front of Q\n",
    "        print(\"After\", removed, \"is removed:\", simq.get(), \"\\n\")\n",
    "            \n",
    "    return simq.get()                # return what is remaining\n"
   ]
  },
  {
   "cell_type": "code",
   "execution_count": 200,
   "metadata": {},
   "outputs": [
    {
     "name": "stdout",
     "output_type": "stream",
     "text": [
      "Initial queue:  ['Brad', 'Kent', 'Jane', 'Susan', 'David', 'Bill'] \n",
      "\n",
      "2 people shifted: ['David', 'Bill', 'Brad', 'Kent', 'Jane', 'Susan']\n",
      "After Susan is removed: ['David', 'Bill', 'Brad', 'Kent', 'Jane'] \n",
      "\n",
      "2 people shifted: ['Kent', 'Jane', 'David', 'Bill', 'Brad']\n",
      "After Brad is removed: ['Kent', 'Jane', 'David', 'Bill'] \n",
      "\n",
      "2 people shifted: ['David', 'Bill', 'Kent', 'Jane']\n",
      "After Jane is removed: ['David', 'Bill', 'Kent'] \n",
      "\n",
      "2 people shifted: ['Bill', 'Kent', 'David']\n",
      "After David is removed: ['Bill', 'Kent'] \n",
      "\n",
      "2 people shifted: ['Bill', 'Kent']\n",
      "After Kent is removed: ['Bill'] \n",
      "\n",
      "['Bill']\n"
     ]
    }
   ],
   "source": [
    "print(hotPotato([\"Bill\",\"David\",\"Susan\",\"Jane\",\"Kent\",\"Brad\"], 2))\n",
    "\n",
    "# note how while the list contains names in one order, the queue is created such that\n",
    "# Bill is in front, next David, susan,...."
   ]
  },
  {
   "cell_type": "markdown",
   "metadata": {},
   "source": [
    "### 4.14 Simulation: Printing Tasks"
   ]
  },
  {
   "cell_type": "markdown",
   "metadata": {},
   "source": [
    "### 4.15 - 4.17 Dequeue\n",
    "Double ended queue that takes features of both queues and stacks and upto user to define.\n",
    "$[0,1,2,3,4] = [rear,...., front]$"
   ]
  },
  {
   "cell_type": "code",
   "execution_count": 202,
   "metadata": {},
   "outputs": [],
   "source": [
    "class Deque:\n",
    "    def __init__(self):\n",
    "        self.items = []\n",
    "\n",
    "    def isEmpty(self):\n",
    "        return self.items == []\n",
    "\n",
    "    def addFront(self, item):\n",
    "        self.items.append(item)\n",
    "\n",
    "    def addRear(self, item):\n",
    "        self.items.insert(0,item)\n",
    "\n",
    "    def removeFront(self):\n",
    "        return self.items.pop()\n",
    "\n",
    "    def removeRear(self):\n",
    "        return self.items.pop(0)\n",
    "\n",
    "    def size(self):\n",
    "        return len(self.items)\n",
    "    \n",
    "    def get(self):\n",
    "        return self.items"
   ]
  },
  {
   "cell_type": "markdown",
   "metadata": {},
   "source": [
    "###  4.18 Palindrome Checker\n",
    "- Add letters of the string into a dequeue from the rear to the front\n",
    "- Check front and rear letters and then pop them out until only one remains."
   ]
  },
  {
   "cell_type": "code",
   "execution_count": 205,
   "metadata": {},
   "outputs": [],
   "source": [
    "def palchecker(string):\n",
    "    pal = Deque()\n",
    "    ispalindrome = True\n",
    "    \n",
    "    for ch in string:\n",
    "        pal.addRear(ch)\n",
    "    \n",
    "    while pal.size() > 1:\n",
    "        first = pal.removeFront()\n",
    "        last = pal.removeRear()\n",
    "        \n",
    "        if first != last:\n",
    "            ispalindrome = False\n",
    "    \n",
    "    return ispalindrome\n",
    "    \n",
    "    "
   ]
  },
  {
   "cell_type": "code",
   "execution_count": 212,
   "metadata": {},
   "outputs": [
    {
     "name": "stdout",
     "output_type": "stream",
     "text": [
      "False\n",
      "True\n",
      "False\n"
     ]
    }
   ],
   "source": [
    "print(palchecker(\"siddharth\"))\n",
    "print(palchecker(\"radar\"))\n",
    "print(palchecker(\"asgsdgsg\"))"
   ]
  },
  {
   "cell_type": "markdown",
   "metadata": {},
   "source": [
    "### 4.19 Lists"
   ]
  },
  {
   "cell_type": "code",
   "execution_count": null,
   "metadata": {},
   "outputs": [],
   "source": []
  },
  {
   "cell_type": "markdown",
   "metadata": {},
   "source": [
    "##  Chapter 5: Recursion"
   ]
  }
 ],
 "metadata": {
  "kernelspec": {
   "display_name": "Python 3",
   "language": "python",
   "name": "python3"
  },
  "language_info": {
   "codemirror_mode": {
    "name": "ipython",
    "version": 3
   },
   "file_extension": ".py",
   "mimetype": "text/x-python",
   "name": "python",
   "nbconvert_exporter": "python",
   "pygments_lexer": "ipython3",
   "version": "3.8.5"
  }
 },
 "nbformat": 4,
 "nbformat_minor": 4
}
