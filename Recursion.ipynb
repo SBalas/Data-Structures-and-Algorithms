{
 "cells": [
  {
   "cell_type": "markdown",
   "metadata": {},
   "source": [
    "# Recursion"
   ]
  },
  {
   "cell_type": "markdown",
   "metadata": {},
   "source": [
    "## Chapter 5: Recursion\n",
    "\n",
    "$listSum(list) = first(list) + listSum(rest(list))$\n",
    "\n",
    "**Three Laws**\n",
    "1. Must have base case\n",
    "2. Must change its state and move toward base case\n",
    "3. Must call itself, recursively\n"
   ]
  },
  {
   "cell_type": "code",
   "execution_count": 3,
   "metadata": {},
   "outputs": [],
   "source": [
    "def listsum(numList):\n",
    "    if len(numList) == 1:\n",
    "        return numList[0]\n",
    "    \n",
    "    else:\n",
    "        return numList[0] + listsum(numList[1:])"
   ]
  },
  {
   "cell_type": "code",
   "execution_count": 5,
   "metadata": {},
   "outputs": [
    {
     "data": {
      "text/plain": [
       "10"
      ]
     },
     "execution_count": 5,
     "metadata": {},
     "output_type": "execute_result"
    }
   ],
   "source": [
    "listsum([1,2,3,4])"
   ]
  },
  {
   "cell_type": "code",
   "execution_count": 15,
   "metadata": {},
   "outputs": [],
   "source": [
    "def factorial(num):\n",
    "    if num == 0:\n",
    "        return 1\n",
    "    \n",
    "    elif num == 1:\n",
    "        return 1\n",
    "    \n",
    "    else:\n",
    "        return num*factorial(num-1)"
   ]
  },
  {
   "cell_type": "code",
   "execution_count": 16,
   "metadata": {},
   "outputs": [
    {
     "data": {
      "text/plain": [
       "120"
      ]
     },
     "execution_count": 16,
     "metadata": {},
     "output_type": "execute_result"
    }
   ],
   "source": [
    "factorial(5)"
   ]
  },
  {
   "cell_type": "markdown",
   "metadata": {},
   "source": [
    "### 5.5 Convert integer to string in any base\n",
    "- convertString[n] returns the string representation of the number passed if it is present in convertString\n",
    "- So to convert 789 into string, get the remainers by dividing by the base (10 or 2) until reach the smallest case.\n",
    "- 789 gives ---\n",
    "    - 789%10 = 9\n",
    "    - 78%10  = 8\n",
    "    - 7%10  = 7"
   ]
  },
  {
   "cell_type": "code",
   "execution_count": 25,
   "metadata": {},
   "outputs": [],
   "source": [
    "def toStr(n,base):\n",
    "   convertString = \"0123456789\"\n",
    "   if n < base:\n",
    "      return convertString[n]\n",
    "   else:\n",
    "      return toStr(n//base,base) + convertString[n%base]"
   ]
  },
  {
   "cell_type": "code",
   "execution_count": 30,
   "metadata": {},
   "outputs": [
    {
     "name": "stdout",
     "output_type": "stream",
     "text": [
      "1453\n",
      "10110101101\n"
     ]
    }
   ],
   "source": [
    "print(toStr(1453,10))\n",
    "print(toStr(1453,2))"
   ]
  },
  {
   "cell_type": "markdown",
   "metadata": {},
   "source": [
    "### Check palindrome using recursion\n",
    "- Check if the length is 1 or 0 as this means it is a palindrom\n",
    "- Check the first and last word.... if not equal, then NOT\n",
    "- If first = last word, call function again with these two chars left out."
   ]
  },
  {
   "cell_type": "code",
   "execution_count": 87,
   "metadata": {},
   "outputs": [],
   "source": [
    "# function to convert to lower case and remove whitespace\n",
    "# can modify by removing other punctuations as well\n",
    "\n",
    "def removeWhite(word):\n",
    "    word = word.lower()\n",
    "    clean = []\n",
    "    for ch in word:\n",
    "        if ch != \" \":\n",
    "            clean.append(ch)\n",
    "    return clean\n",
    "            \n",
    "\n",
    "def palindrome(word):\n",
    "    \n",
    "    if len(word) == 1 or len(word) == 0:\n",
    "        return True\n",
    "            \n",
    "    else:\n",
    "        first = word[0]\n",
    "        last = word[-1]\n",
    "                \n",
    "        if first != last:\n",
    "            return False\n",
    "        else:\n",
    "            return palindrome(word[1:-1])"
   ]
  },
  {
   "cell_type": "code",
   "execution_count": 93,
   "metadata": {},
   "outputs": [
    {
     "name": "stdout",
     "output_type": "stream",
     "text": [
      "False\n",
      "True\n"
     ]
    }
   ],
   "source": [
    "print(palindrome(removeWhite(\"siddharth\")))\n",
    "print(palindrome(removeWhite(\"radar\")))\n"
   ]
  },
  {
   "cell_type": "markdown",
   "metadata": {},
   "source": [
    "###  5.6 Stack frames - implementing recursion\n",
    "- Get each digit as a remainder, convert to string, and push it into stack\n",
    "- Pop each string out of the stack, concatenate, and print"
   ]
  },
  {
   "cell_type": "code",
   "execution_count": 98,
   "metadata": {},
   "outputs": [],
   "source": [
    "class Stack:\n",
    "    def __init__(self):\n",
    "        self.items = []\n",
    "    \n",
    "    def isEmpty(self):\n",
    "        return self.items == []\n",
    "    \n",
    "    # add item\n",
    "    def push(self, item):  \n",
    "        self.items.append(item)\n",
    "    \n",
    "    # remove last element\n",
    "    def pop(self):\n",
    "        return self.items.pop()\n",
    "    \n",
    "    # return last element but not remove\n",
    "    def peek(self):\n",
    "        return self.items[len(self.items) - 1]\n",
    "    \n",
    "    def size(self):\n",
    "        return len(self.items)  \n",
    "    \n",
    "    def get(self):\n",
    "        return self.items"
   ]
  },
  {
   "cell_type": "code",
   "execution_count": 122,
   "metadata": {},
   "outputs": [],
   "source": [
    "rStack = Stack()\n",
    "\n",
    "def toStr(n, base):\n",
    "    convertString = \"0123456789\"\n",
    "    \n",
    "    # convert each digit and push into stack\n",
    "    while n > 0:\n",
    "        if n < base:\n",
    "            rStack.push(convertString[n])\n",
    "        else:\n",
    "            rStack.push(convertString[n % base])\n",
    "            \n",
    "        n = n // base # get the quotient\n",
    "    \n",
    "    # read from the stack to form string\n",
    "    res = \"\"\n",
    "    \n",
    "    while not rStack.isEmpty():\n",
    "        res = res + str(rStack.pop())  \n",
    "    return res\n",
    "    "
   ]
  },
  {
   "cell_type": "code",
   "execution_count": 124,
   "metadata": {},
   "outputs": [
    {
     "data": {
      "text/plain": [
       "'1245'"
      ]
     },
     "execution_count": 124,
     "metadata": {},
     "output_type": "execute_result"
    }
   ],
   "source": [
    "toStr(1245, 10)"
   ]
  },
  {
   "cell_type": "markdown",
   "metadata": {},
   "source": [
    "###  5.7 Visualizing recursion\n",
    "Using tutle"
   ]
  },
  {
   "cell_type": "code",
   "execution_count": 1,
   "metadata": {},
   "outputs": [
    {
     "data": {
      "application/vnd.jupyter.widget-view+json": {
       "model_id": "a9215be3a9c84a51876ebc3edf06c881",
       "version_major": 2,
       "version_minor": 0
      },
      "text/plain": [
       "Turtle()"
      ]
     },
     "metadata": {},
     "output_type": "display_data"
    }
   ],
   "source": [
    "from mobilechelonian import Turtle\n",
    "t = Turtle()\n",
    "t.forward(100)"
   ]
  },
  {
   "cell_type": "code",
   "execution_count": null,
   "metadata": {},
   "outputs": [],
   "source": []
  }
 ],
 "metadata": {
  "kernelspec": {
   "display_name": "Python 3",
   "language": "python",
   "name": "python3"
  },
  "language_info": {
   "codemirror_mode": {
    "name": "ipython",
    "version": 3
   },
   "file_extension": ".py",
   "mimetype": "text/x-python",
   "name": "python",
   "nbconvert_exporter": "python",
   "pygments_lexer": "ipython3",
   "version": "3.8.5"
  }
 },
 "nbformat": 4,
 "nbformat_minor": 4
}
