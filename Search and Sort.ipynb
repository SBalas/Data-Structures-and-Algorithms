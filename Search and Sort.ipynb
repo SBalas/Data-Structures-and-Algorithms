{
 "cells": [
  {
   "cell_type": "markdown",
   "metadata": {},
   "source": [
    "# Search and Sort\n",
    "\n",
    "https://runestone.academy/ns/books/published/pythonds/SortSearch/toctree.html\n",
    "    "
   ]
  },
  {
   "cell_type": "markdown",
   "metadata": {},
   "source": [
    "## Sequential Search\n",
    "\n",
    "### Unordered List\n",
    "You seach every element in the list. Complexity is $O(n)$\n",
    "- Present: $(best, worst, avg) = (1,n,\\frac{n}{2})$\n",
    "- Absent:  $(best, worst, avg) = (n,n,n)$\n"
   ]
  },
  {
   "cell_type": "code",
   "execution_count": 13,
   "metadata": {},
   "outputs": [],
   "source": [
    "def sequentialSearch(aList, item):\n",
    "    \n",
    "    found = False\n",
    "    \n",
    "    for i in range(len(aList)):\n",
    "        if item == aList[i]:\n",
    "            found = True\n",
    "                    \n",
    "        if found == True:\n",
    "            break\n",
    "    \n",
    "    return found\n",
    "        "
   ]
  },
  {
   "cell_type": "code",
   "execution_count": 14,
   "metadata": {},
   "outputs": [
    {
     "name": "stdout",
     "output_type": "stream",
     "text": [
      "False\n",
      "True\n"
     ]
    }
   ],
   "source": [
    "testlist = [1, 2, 32, 8, 17, 19, 42, 13, 0]\n",
    "print(sequentialSearch(testlist, 3))\n",
    "print(sequentialSearch(testlist, 13))"
   ]
  },
  {
   "cell_type": "markdown",
   "metadata": {},
   "source": [
    "###  Ordered List\n",
    "You seach every element in the list until the value in the list becomes greater than the item. Complexity is $O(n)$"
   ]
  },
  {
   "cell_type": "code",
   "execution_count": 22,
   "metadata": {},
   "outputs": [],
   "source": [
    "def orderedSequentialSearch(aList, item):\n",
    "    \n",
    "    found = False\n",
    "    \n",
    "    for i in range(len(aList)):\n",
    "        if item == aList[i]:\n",
    "            found = True\n",
    "        \n",
    "        if found == True:\n",
    "            break\n",
    "    \n",
    "        if item < aList[i]:\n",
    "            found = False\n",
    "            break\n",
    "                \n",
    "        \n",
    "    return (found, i)"
   ]
  },
  {
   "cell_type": "code",
   "execution_count": 23,
   "metadata": {},
   "outputs": [
    {
     "name": "stdout",
     "output_type": "stream",
     "text": [
      "(False, 3)\n",
      "(True, 4)\n"
     ]
    }
   ],
   "source": [
    "testlist = [0, 1, 2, 8, 13, 17, 19, 32, 42,]\n",
    "print(orderedSequentialSearch(testlist, 3))\n",
    "print(orderedSequentialSearch(testlist, 13))"
   ]
  },
  {
   "cell_type": "markdown",
   "metadata": {},
   "source": [
    "## Binary Search\n",
    "- Check whether middle value matches the item. If middle value is less than item, then search only the right half. If middle value is greater than item, then search only the left half.\n",
    "\n",
    "Complexity is $Olog(n)$\n",
    "- After 1 comparison, $\\frac{n}{2}$ items left\n",
    "- After 2 comparisons, $\\frac{n}{4}$ items left... so on\n",
    "- After k comparisons, $\\frac{n}{2^k}$ items left\n",
    "\n",
    "The last comparison would be with just one number. Hence solve $\\frac{n}{2^k} = 1$ to get $k = log(n)$.\n"
   ]
  },
  {
   "cell_type": "code",
   "execution_count": 28,
   "metadata": {},
   "outputs": [],
   "source": [
    "def binarySearch(aList, item):\n",
    "    if len(aList) == 0:\n",
    "        return False\n",
    "    else:\n",
    "        midpoint = len(aList)//2\n",
    "        if item == aList[midpoint]:\n",
    "            return True\n",
    "        elif item < aList[midpoint]:\n",
    "            return binarySearch(aList[:midpoint], item)\n",
    "        else:\n",
    "            return binarySearch(aList[midpoint+1:], item)"
   ]
  },
  {
   "cell_type": "code",
   "execution_count": 31,
   "metadata": {},
   "outputs": [
    {
     "name": "stdout",
     "output_type": "stream",
     "text": [
      "False\n",
      "True\n"
     ]
    }
   ],
   "source": [
    "testlist = [0, 1, 2, 8, 13, 17, 19, 32, 42,]\n",
    "print(binarySearch(testlist, 3))\n",
    "print(binarySearch(testlist, 13))"
   ]
  },
  {
   "cell_type": "markdown",
   "metadata": {},
   "source": [
    "##  Hashing\n",
    "A concept in which item can be database can be searched with complexity $O(1)$\n",
    "\n",
    "- **Hash table** - collection of items stored so that it is easy to find them. Each item is stored in a slot. If two items get the same slot, it is called a **collision.**\n",
    "- **Hash Function** - Function that maps value to slot number. Example: $h(item) = item \\% 11$. So value 1,22, 37 are stored in slots 1, 2, 4.\n",
    "- **Load Factor**: $\\lambda = \\frac{no. items}{table size}$\n",
    "- **Folding method** - divide into equal size pieces, add them, then divide to get remainder. <br>\n",
    "Example: $123-456-7891 -> (12 + 34 + 56 + 78 + 91) -> X \\% 11$\n",
    "- **Mid-square method** - Square the number, extract some part of it, divide. <br>\n",
    "Example: $44*44 = 1936 ->  93 \\% 11 -> 5$\n",
    "- **Letters** - convert to ordinal value and then add. Anagrams yield same value, so add the weighted slot sum of the ordinal values."
   ]
  },
  {
   "cell_type": "code",
   "execution_count": 32,
   "metadata": {},
   "outputs": [],
   "source": [
    "def hash(astring, tablesize):\n",
    "    sum = 0\n",
    "    for pos in range(len(astring)):\n",
    "        sum = sum + ord(astring[pos])\n",
    "\n",
    "    return sum%tablesize"
   ]
  },
  {
   "cell_type": "code",
   "execution_count": 40,
   "metadata": {},
   "outputs": [
    {
     "name": "stdout",
     "output_type": "stream",
     "text": [
      "4\n",
      "4\n"
     ]
    }
   ],
   "source": [
    "print(hash(\"abcd\", 6))\n",
    "print(hash(\"cdba\", 6))"
   ]
  },
  {
   "cell_type": "markdown",
   "metadata": {},
   "source": [
    "### Collision Resolution\n",
    "If the hash value gives a slot that is already filled, a collision occurs. A few ways to fix this:\n",
    "\n",
    "**1. Open addressing**- The next open slot is found (linear probing) and filled. However, this could lead to clustering of values around a common slot. For example, if we have 44, 55, 66, 77, then 44 is filled in Slot 0, 55 to slot 1 (coz 0 is filled), 66 to slot 2, 77 yo slot 3, and so on. <br>\n",
    "\n",
    "**2. Rehashing** - Rather than look for next open slot, skip slots if collision occurs look for next open slot. So for (44,55,66,77) will be in slots (0,2,4,6). In general, you can skin $k$ slots.\n",
    "\n",
    "$$newhashvalue = rehash(oldhashvalue)$$ where \n",
    "\n",
    "$$rehash(pos) = (pos+1) \\% \\ size \\ of \\ table$$\n",
    "\n",
    "\n",
    "**3. Quadriatic probing** - the skip value is not constant, increments of 1,3,5,7,9....so\n",
    "\n",
    "$$rehash(pos) = (pos + i^2) \\% \\ size \\ of \\ table$$\n",
    "\n",
    "**4. Chaining** - Collision is allowed, values are stored in same slot and searched through for match in that slot."
   ]
  },
  {
   "cell_type": "markdown",
   "metadata": {},
   "source": [
    "### Analysis of Hashing\n",
    "- Lower chances of collision if load factor ($\\lambda$) is small.\n",
    "- Best case hash with no collisions yield complexity of $O(1)$ but is higher due to collisions, probing, and chaining"
   ]
  },
  {
   "cell_type": "markdown",
   "metadata": {},
   "source": [
    "## Sorting\n",
    "Two operations are used to judge the sorting efficiency: comparisons and exhange of positions"
   ]
  },
  {
   "cell_type": "markdown",
   "metadata": {},
   "source": [
    "###  Bubble Sort\n",
    "Go from left to right, compare consecutive values, swap if L(i) > L(i+1), do so (n-1) times. In the first pass the largest number gets to its right place, so need to sort remaning (n-1) values... and so on.\n",
    "- **Complexity**: $O(n^2)$\n",
    "- Total number of comparisons = $(n-1) + (n-2) + ... 1 = \\frac {n^2 - n}{2} $\n",
    "- It is the most inefficient but if the list is alredy sorted, then can exit quickly using **short bubble**"
   ]
  },
  {
   "cell_type": "code",
   "execution_count": 51,
   "metadata": {},
   "outputs": [
    {
     "data": {
      "text/plain": [
       "[2, 1, 3, 4]"
      ]
     },
     "execution_count": 51,
     "metadata": {},
     "output_type": "execute_result"
    }
   ],
   "source": [
    "# simpler way to swap in python\n",
    "aList = [1,2,3,4]\n",
    "aList[0], aList[1] = aList[1], aList[0]\n",
    "aList"
   ]
  },
  {
   "cell_type": "code",
   "execution_count": 68,
   "metadata": {},
   "outputs": [],
   "source": [
    "def bubbleSort(aList):\n",
    "    for j in range(len(aList) -1, 0, -1):\n",
    "        for i in range(j):\n",
    "            if aList[i] > aList[i+1]:\n",
    "                aList[i], aList[i+1] = aList[i+1], aList[i]\n",
    "    return aList\n",
    "    "
   ]
  },
  {
   "cell_type": "code",
   "execution_count": 70,
   "metadata": {},
   "outputs": [
    {
     "data": {
      "text/plain": [
       "[17, 20, 26, 31, 44, 54, 55, 77, 93]"
      ]
     },
     "execution_count": 70,
     "metadata": {},
     "output_type": "execute_result"
    }
   ],
   "source": [
    "aList = [54,26,93,17,77,31,44,55,20]\n",
    "bubbleSort(aList)"
   ]
  },
  {
   "cell_type": "code",
   "execution_count": 84,
   "metadata": {},
   "outputs": [],
   "source": [
    "def shortBubbleSort(aList):\n",
    "    for j in range(len(aList) -1, 0, -1):\n",
    "        exchange = False\n",
    "        print(j)\n",
    "        for i in range(j):\n",
    "            if aList[i] > aList[i+1]:\n",
    "                exchange = True\n",
    "                aList[i], aList[i+1] = aList[i+1], aList[i]\n",
    "        \n",
    "        # if there was no change, then the list is already sorted, so break\n",
    "        if exchange == False:\n",
    "            break\n",
    "    return aList"
   ]
  },
  {
   "cell_type": "code",
   "execution_count": 85,
   "metadata": {},
   "outputs": [
    {
     "name": "stdout",
     "output_type": "stream",
     "text": [
      "9\n",
      "8\n"
     ]
    },
    {
     "data": {
      "text/plain": [
       "[20, 30, 40, 50, 60, 70, 80, 90, 100, 110]"
      ]
     },
     "execution_count": 85,
     "metadata": {},
     "output_type": "execute_result"
    }
   ],
   "source": [
    "aList = [20,30,40,90, 50,60,70,80,100,110]\n",
    "shortBubbleSort(aList)"
   ]
  },
  {
   "cell_type": "markdown",
   "metadata": {},
   "source": [
    "### Selection Sort\n",
    "For each pass only the largest value is swapped. So in the first pass, the largest gets to slot (n-1), in the second pass the secon largest gets to slot (n-2)...\n",
    "\n",
    "**Complexity** is still $O(n^2)$ since same number of comparisons but only (n-1) swaps."
   ]
  },
  {
   "cell_type": "code",
   "execution_count": 89,
   "metadata": {},
   "outputs": [],
   "source": [
    "def selectionSort(aList):\n",
    "    for fillslot in range(len(aList) -1, 0, -1):\n",
    "        \n",
    "        # assign the first index as the max\n",
    "        index_max = 0\n",
    "        \n",
    "        for i in range(1, fillslot + 1):        # note i starts from 1 not 0 and range till fillslot + 1\n",
    "            if aList[i] > aList[index_max]:     # compare values to max in that list\n",
    "                index_max = i                   # update index of max value\n",
    "        \n",
    "        # swap the max value with the last number\n",
    "        aList[index_max], aList[fillslot] = aList[fillslot], aList[index_max]\n",
    "    return aList"
   ]
  },
  {
   "cell_type": "code",
   "execution_count": 91,
   "metadata": {},
   "outputs": [
    {
     "data": {
      "text/plain": [
       "[17, 20, 26, 31, 44, 54, 55, 77, 93]"
      ]
     },
     "execution_count": 91,
     "metadata": {},
     "output_type": "execute_result"
    }
   ],
   "source": [
    "alist = [54,26,93,17,77,31,44,55,20]\n",
    "selectionSort(alist)"
   ]
  },
  {
   "cell_type": "markdown",
   "metadata": {},
   "source": [
    "### Insertion Sort\n",
    "Go from left to right (n-1) times and each time you sort the items on the left. So start with one, then for the second sort the two items, then for the third, you place it accordingly, and so on...\n",
    "\n",
    "**Complexity** is still $O(n^2)$ as max number of comparisons is $1 + 2 + ... + (n-1)$  "
   ]
  },
  {
   "cell_type": "code",
   "execution_count": 251,
   "metadata": {},
   "outputs": [],
   "source": [
    "def insertionSort(aList):\n",
    "    for checkslot in range(1, len(aList)):\n",
    "        currentvalue = aList[checkslot]\n",
    "        position = checkslot\n",
    "        \n",
    "        while position > 0 and aList[position - 1] > currentvalue:\n",
    "            aList[position] = aList[position - 1]\n",
    "            position = position - 1\n",
    "        \n",
    "        aList[position] = currentvalue\n",
    "    return aList"
   ]
  },
  {
   "cell_type": "code",
   "execution_count": 255,
   "metadata": {},
   "outputs": [
    {
     "data": {
      "text/plain": [
       "[17, 20, 26, 31, 44, 54, 55, 77, 93]"
      ]
     },
     "execution_count": 255,
     "metadata": {},
     "output_type": "execute_result"
    }
   ],
   "source": [
    "alist = [54,26,93,17,77,31,44,55,20]\n",
    "#alist = [93,31,20, 10, 5]\n",
    "insertionSort(alist)"
   ]
  },
  {
   "cell_type": "markdown",
   "metadata": {},
   "source": [
    "### Shell Sort\n",
    "- Divide the list into multiple subslists using some increment. So $(i, i+3, i+6...)$ is one sublist $(i+1, i+4...)$ another and so on. \n",
    "- Use insertion sort to sort each of these sublists.\n",
    "- Finally, use insertion sort for the whole list\n",
    "\n",
    "- One way to create sublists size is by taking $L/2$, where $L$ is length of list. After sorting these two sublists, update the size with $L/4$...and so on.\n",
    "\n",
    "**Complexity** is between $O(n)$ and $O(n^2)$. With increments of $2^k - 1$ it can become $O(n^\\frac{3}{2})$\n"
   ]
  },
  {
   "cell_type": "markdown",
   "metadata": {},
   "source": [
    "<tr>\n",
    "<td> <img src=\"./images/Shell_sort_1.JPG\" style=\"width: 200px;\" > </td>\n",
    "<td> <img src=\"./images/Shell_sort_2.JPG\" style=\"width: 200px;\" > </td>\n",
    "</tr>"
   ]
  },
  {
   "cell_type": "code",
   "execution_count": 297,
   "metadata": {},
   "outputs": [],
   "source": [
    "def shellSort(aList):\n",
    "    sublistcount = len(aList)//2\n",
    "    \n",
    "    while sublistcount > 0:\n",
    "        for i in range(sublistcount):\n",
    "            gapInsertionSort(aList, i, sublistcount)\n",
    "            print(\"After sublistcount \", sublistcount, aList)\n",
    "\n",
    "        sublistcount = sublistcount//2\n",
    "\n",
    "    return aList\n",
    "\n",
    "def gapInsertionSort(aList, start, gap):\n",
    "    for checkslot in range(start + gap, len(aList), gap):\n",
    "        currentvalue = aList[checkslot]\n",
    "        position = checkslot\n",
    "        \n",
    "        while position > start and aList[position - gap] > currentvalue:\n",
    "            aList[position]  = aList[position - gap]\n",
    "            position = position - gap\n",
    "        \n",
    "        aList[position] = currentvalue            \n",
    "                \n",
    "            "
   ]
  },
  {
   "cell_type": "code",
   "execution_count": 298,
   "metadata": {},
   "outputs": [
    {
     "name": "stdout",
     "output_type": "stream",
     "text": [
      "After sublistcount  2 [10, 80, 30, 60, 50, 40, 70, 20, 90]\n",
      "After sublistcount  2 [10, 20, 30, 40, 50, 60, 70, 80, 90]\n"
     ]
    },
    {
     "data": {
      "text/plain": [
       "[10, 20, 30, 40, 50, 60, 70, 80, 90]"
      ]
     },
     "execution_count": 298,
     "metadata": {},
     "output_type": "execute_result"
    }
   ],
   "source": [
    "alist = [54,26,93,17,77,31,44,55,20]\n",
    "alist = [90,80,70,60,50,40,30,20,10]\n",
    "shellSort(alist)"
   ]
  },
  {
   "cell_type": "markdown",
   "metadata": {},
   "source": [
    "### Merge Sort\n",
    "Check [MERGE SORT](https://runestone.academy/runestone/books/published/pythonds/SortSearch/TheMergeSort.html) for detailed explanation"
   ]
  },
  {
   "cell_type": "markdown",
   "metadata": {},
   "source": [
    "###  Quick Sort\n",
    "\n",
    "Check [QUICK SORT](https://runestone.academy/runestone/books/published/pythonds/SortSearch/TheQuickSort.html) for detailed explanation\n",
    "\n",
    "**Complexity**: $O(nlog(n))$ average case if partition occurs in the middle, if partition is skewed then $O(n^2)$\n",
    "\n",
    "**Choose pivot** by taking the median of the first, middle, and last values"
   ]
  },
  {
   "cell_type": "code",
   "execution_count": 316,
   "metadata": {},
   "outputs": [],
   "source": [
    "def quickSort(aList):\n",
    "    quickSortHelper(aList, 0, len(aList) - 1)\n",
    "    \n",
    "def quickSortHelper(aList, first, last):\n",
    "    if first < last:\n",
    "        splitpoint = partition(aList, first, last)\n",
    "        quickSortHelper(aList, first, splitpoint - 1) # left half of the split\n",
    "        quickSortHelper(aList, splitpoint + 1, last) # right half of the split\n",
    "        \n",
    "def partition(aList, first, last):\n",
    "    pivotvalue = aList[first]\n",
    "    \n",
    "    leftmark = first + 1\n",
    "    rightmark = last\n",
    "    \n",
    "    done = False\n",
    "    \n",
    "    while not done:\n",
    "        \n",
    "        '''move leftmark one step right if its value is <= pivot value'''\n",
    "        while leftmark <= rightmark and aList[leftmark] <= pivotvalue:\n",
    "            leftmark = leftmark + 1\n",
    "        \n",
    "        '''move rightmark one step left if its value is >= pivot value'''\n",
    "        while aList[rightmark] >= pivotvalue and rightmark >= leftmark:\n",
    "            rightmark = rightmark - 1\n",
    "        \n",
    "        '''Once we are out of either of the two while loops, it means either the pivot value condition was reached\n",
    "           OR leftmark and rightmark crossed each other. If so do this:'''\n",
    "        \n",
    "        # crossed each other\n",
    "        if rightmark < leftmark:\n",
    "            done = True\n",
    "        \n",
    "        # pivot value condition reached, so swap the values\n",
    "        else:\n",
    "            aList[leftmark], aList[rightmark] = aList[rightmark], aList[leftmark] \n",
    "    \n",
    "    # Once out of the big while loop, means done... means rightmark and leftmark crossed each other\n",
    "    '''If so swap value in RIGHTMARK with the PIVOT VALUE'''\n",
    "    temp = aList[first]\n",
    "    aList[first] = aList[rightmark]\n",
    "    aList[rightmark] = temp\n",
    "    \n",
    "    return rightmark\n",
    "    "
   ]
  },
  {
   "cell_type": "code",
   "execution_count": 317,
   "metadata": {},
   "outputs": [
    {
     "name": "stdout",
     "output_type": "stream",
     "text": [
      "[17, 20, 26, 31, 44, 54, 55, 77, 93]\n"
     ]
    }
   ],
   "source": [
    "alist = [54,26,93,17,77,31,44,55,20]\n",
    "quickSort(alist)\n",
    "print(alist)"
   ]
  }
 ],
 "metadata": {
  "kernelspec": {
   "display_name": "Python 3",
   "language": "python",
   "name": "python3"
  },
  "language_info": {
   "codemirror_mode": {
    "name": "ipython",
    "version": 3
   },
   "file_extension": ".py",
   "mimetype": "text/x-python",
   "name": "python",
   "nbconvert_exporter": "python",
   "pygments_lexer": "ipython3",
   "version": "3.8.5"
  },
  "toc": {
   "base_numbering": "6",
   "nav_menu": {},
   "number_sections": true,
   "sideBar": true,
   "skip_h1_title": false,
   "title_cell": "Table of Contents",
   "title_sidebar": "Contents",
   "toc_cell": false,
   "toc_position": {
    "height": "calc(100% - 180px)",
    "left": "10px",
    "top": "150px",
    "width": "303.837px"
   },
   "toc_section_display": true,
   "toc_window_display": true
  }
 },
 "nbformat": 4,
 "nbformat_minor": 4
}
