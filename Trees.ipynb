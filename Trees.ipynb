{
 "cells": [
  {
   "cell_type": "markdown",
   "metadata": {},
   "source": [
    "# Trees"
   ]
  },
  {
   "cell_type": "markdown",
   "metadata": {},
   "source": [
    "## 7.5 Nodes and References\n",
    "\n",
    "- Basic intialization of the binary tree class is with **a root node, and left and right children**.\n",
    "- To **insert a child**, check if any are present. \n",
    "    - If not present, then create a new class and assign value\n",
    "    - If present, replace the current child with the new child, and then push the exsting child one level down."
   ]
  },
  {
   "cell_type": "code",
   "execution_count": 31,
   "metadata": {
    "scrolled": false
   },
   "outputs": [],
   "source": [
    "class BinaryTree:\n",
    "    def __init__(self, rootObj):\n",
    "        self.key = rootObj\n",
    "        self.leftChild = None\n",
    "        self.rightChild = None\n",
    "        \n",
    "    def insertLeft(self, newNode):\n",
    "        if self.leftChild == None:\n",
    "            self.leftChild = BinaryTree(newNode)    # create a new class for child\n",
    "        else:\n",
    "            t = BinaryTree(newNode)\n",
    "            t.leftChild = self.leftChild\n",
    "            self.leftChild = t\n",
    "            \n",
    "    def insertRight(self, newNode):\n",
    "        if self.rightChild == None:\n",
    "            self.rightChild = BinaryTree(newNode)   # create a new class for child\n",
    "        else:\n",
    "            t = BinaryTree(newNode)\n",
    "            t.rightChild = self.rightChild\n",
    "            self.rightChild = t\n",
    "            \n",
    "    def getRightChild(self):\n",
    "        return self.rightChild\n",
    "    \n",
    "    def getLeftChild(self):\n",
    "        return self.leftChild\n",
    "    \n",
    "    def setRootVal(self,obj):\n",
    "        self.key = obj\n",
    "        \n",
    "    def getRootVal(self):\n",
    "        return self.key\n",
    "        "
   ]
  },
  {
   "cell_type": "code",
   "execution_count": 45,
   "metadata": {
    "scrolled": false
   },
   "outputs": [
    {
     "name": "stdout",
     "output_type": "stream",
     "text": [
      "Rootvalue: Root\n",
      "Left Child: None\n",
      "Right Child: None\n",
      "Left Child: <__main__.BinaryTree object at 0x000001469DF1B340>\n",
      "Right Child: <__main__.BinaryTree object at 0x000001469DF1BD30>\n",
      "Left Child value: LL\n",
      "Right Child value: RR\n",
      "\n",
      "\n",
      "Right Child NEW VALUE: RR_new_value\n",
      "\n",
      "\n",
      "Updated Right Child: RR_new_child\n",
      "Right Child's right child: RR_new_value\n"
     ]
    }
   ],
   "source": [
    "r = BinaryTree('Root')\n",
    "print(\"Rootvalue:\", r.getRootVal())\n",
    "print(\"Left Child:\", r.getLeftChild())\n",
    "print(\"Right Child:\", r.getRightChild())\n",
    "\n",
    "r.insertLeft('LL')\n",
    "r.insertRight('RR')\n",
    "\n",
    "print(\"Left Child:\", r.getLeftChild())\n",
    "print(\"Right Child:\", r.getRightChild())\n",
    "\n",
    "# since each of the children is itself a class, the root of this class is its value\n",
    "print(\"Left Child value:\", r.getLeftChild().getRootVal())\n",
    "print(\"Right Child value:\", r.getRightChild().getRootVal())\n",
    "print(\"\\n\")\n",
    "\n",
    "# change value of right child\n",
    "r.getRightChild().setRootVal(\"RR_new_value\")\n",
    "print(\"Right Child NEW VALUE:\", r.getRightChild().getRootVal())\n",
    "print(\"\\n\")\n",
    "\n",
    "# Lets replace Right child with a new value\n",
    "r.insertRight('RR_new_child')\n",
    "\n",
    "# Check the value\n",
    "print(\"Updated Right Child:\", r.getRightChild().getRootVal())\n",
    "print(\"Right Child's right child:\", r.getRightChild().getRightChild().getRootVal())\n"
   ]
  },
  {
   "cell_type": "markdown",
   "metadata": {},
   "source": [
    "## 7.6 Tree Travails\n",
    "- Preorder\n",
    "- Inorder\n",
    "- Postorder"
   ]
  },
  {
   "cell_type": "markdown",
   "metadata": {},
   "source": [
    "<img src=\"./images/tree_book.png\" style=\"width: 600px;\" >"
   ]
  },
  {
   "cell_type": "code",
   "execution_count": 78,
   "metadata": {
    "scrolled": false
   },
   "outputs": [
    {
     "name": "stdout",
     "output_type": "stream",
     "text": [
      "Book\n",
      "Chapter 1\n",
      "Section 1.1\n",
      "Section 1.2\n",
      "Section 1.2.1\n",
      "Section 1.2.2\n",
      "Chapter 2\n",
      "Section 2.1\n",
      "Section 2.2\n",
      "Section 2.2.1\n",
      "Section 2.2.2\n"
     ]
    }
   ],
   "source": [
    "# Create a tree of book chapters and sections\n",
    "b = BinaryTree('Book')\n",
    "b.insertLeft('Chapter 1')\n",
    "b.insertRight('Chapter 2')\n",
    "\n",
    "b.leftChild.insertLeft('Section 1.1')\n",
    "b.leftChild.insertRight('Section 1.2')\n",
    "b.leftChild.rightChild.insertLeft('Section 1.2.1')\n",
    "b.leftChild.rightChild.insertRight('Section 1.2.2')\n",
    "\n",
    "b.rightChild.insertLeft('Section 2.1')\n",
    "b.rightChild.insertRight('Section 2.2')\n",
    "b.rightChild.rightChild.insertLeft('Section 2.2.1')\n",
    "b.rightChild.rightChild.insertRight('Section 2.2.2')\n",
    "\n",
    "# Print the contents of the book using detailed statements\n",
    "print(b.getRootVal())\n",
    "\n",
    "print(b.leftChild.getRootVal())\n",
    "print(b.leftChild.leftChild.getRootVal())\n",
    "print(b.leftChild.rightChild.getRootVal())\n",
    "print(b.leftChild.rightChild.leftChild.getRootVal())\n",
    "print(b.leftChild.rightChild.rightChild.getRootVal())\n",
    "\n",
    "print(b.rightChild.getRootVal())\n",
    "print(b.rightChild.leftChild.getRootVal())\n",
    "print(b.rightChild.rightChild.getRootVal())\n",
    "print(b.rightChild.rightChild.leftChild.getRootVal())\n",
    "print(b.rightChild.rightChild.rightChild.getRootVal())\n"
   ]
  },
  {
   "cell_type": "markdown",
   "metadata": {},
   "source": [
    "###  Preorder\n",
    "Start with the root node, traverse recursively the contents of the left subtree, then the right subtree. It is similar to accessing contents of a book.\n",
    "\n",
    "We can also write this function in the BinaryTree class but an outside function is better since we would also have operations performed on the items."
   ]
  },
  {
   "cell_type": "code",
   "execution_count": 83,
   "metadata": {
    "scrolled": false
   },
   "outputs": [],
   "source": [
    "def preorder(tree):\n",
    "    if tree:\n",
    "        print(tree.getRootVal())\n",
    "        preorder(tree.getLeftChild())\n",
    "        preorder(tree.getRightChild())"
   ]
  },
  {
   "cell_type": "code",
   "execution_count": 80,
   "metadata": {
    "scrolled": false
   },
   "outputs": [
    {
     "name": "stdout",
     "output_type": "stream",
     "text": [
      "Book\n",
      "Chapter 1\n",
      "Section 1.1\n",
      "Section 1.2\n",
      "Section 1.2.1\n",
      "Section 1.2.2\n",
      "Chapter 2\n",
      "Section 2.1\n",
      "Section 2.2\n",
      "Section 2.2.1\n",
      "Section 2.2.2\n"
     ]
    }
   ],
   "source": [
    "preorder(b)"
   ]
  },
  {
   "cell_type": "markdown",
   "metadata": {},
   "source": [
    "### Postorder\n",
    "Traverse recursively the contents of the left subtree, then the right subtree, and only then the ROOT node. In other words, access all the leaves and only then visit each of the root nodes."
   ]
  },
  {
   "cell_type": "code",
   "execution_count": 81,
   "metadata": {
    "scrolled": false
   },
   "outputs": [],
   "source": [
    "def postorder(tree):\n",
    "    if tree != None:\n",
    "        postorder(tree.getLeftChild())\n",
    "        postorder(tree.getRightChild())\n",
    "        print(tree.getRootVal())"
   ]
  },
  {
   "cell_type": "code",
   "execution_count": 82,
   "metadata": {
    "scrolled": false
   },
   "outputs": [
    {
     "name": "stdout",
     "output_type": "stream",
     "text": [
      "Section 1.1\n",
      "Section 1.2.1\n",
      "Section 1.2.2\n",
      "Section 1.2\n",
      "Chapter 1\n",
      "Section 2.1\n",
      "Section 2.2.1\n",
      "Section 2.2.2\n",
      "Section 2.2\n",
      "Chapter 2\n",
      "Book\n"
     ]
    }
   ],
   "source": [
    "postorder(b)"
   ]
  },
  {
   "cell_type": "markdown",
   "metadata": {},
   "source": [
    "### Inorder \n",
    "Traverse recursively the contents of the left subtree, vist the ROOT node, then the right subtree."
   ]
  },
  {
   "cell_type": "code",
   "execution_count": 85,
   "metadata": {
    "scrolled": false
   },
   "outputs": [],
   "source": [
    "def inorder(tree):\n",
    "    if tree != None:\n",
    "        postorder(tree.getLeftChild())\n",
    "        print(tree.getRootVal())\n",
    "        postorder(tree.getRightChild())        "
   ]
  },
  {
   "cell_type": "code",
   "execution_count": 86,
   "metadata": {
    "scrolled": false
   },
   "outputs": [
    {
     "name": "stdout",
     "output_type": "stream",
     "text": [
      "Section 1.1\n",
      "Section 1.2.1\n",
      "Section 1.2.2\n",
      "Section 1.2\n",
      "Chapter 1\n",
      "Book\n",
      "Section 2.1\n",
      "Section 2.2.1\n",
      "Section 2.2.2\n",
      "Section 2.2\n",
      "Chapter 2\n"
     ]
    }
   ],
   "source": [
    "inorder(b)"
   ]
  },
  {
   "cell_type": "markdown",
   "metadata": {},
   "source": [
    "### Math expressions\n",
    "- Using ```postorder``` to evaluate the expression\n",
    "- Using ```inorder``` to print the expression"
   ]
  },
  {
   "cell_type": "markdown",
   "metadata": {},
   "source": [
    "<img src=\"./images/tree_math.png\" style=\"width: 400px;\" >"
   ]
  },
  {
   "cell_type": "code",
   "execution_count": 97,
   "metadata": {
    "scrolled": false
   },
   "outputs": [],
   "source": [
    "# Define the math expression tree\n",
    "m = BinaryTree('*')\n",
    "m.insertLeft('+')\n",
    "m.insertRight('-')\n",
    "\n",
    "m.leftChild.insertLeft(7)\n",
    "m.leftChild.insertRight(3)\n",
    "\n",
    "m.rightChild.insertLeft(5)\n",
    "m.rightChild.insertRight(2)"
   ]
  },
  {
   "cell_type": "code",
   "execution_count": 99,
   "metadata": {
    "scrolled": false
   },
   "outputs": [],
   "source": [
    "import operator\n",
    "\n",
    "def postordereval(tree):\n",
    "    opers = {'+':operator.add, '-':operator.sub, '*':operator.mul, '/':operator.truediv}\n",
    "    res1 = None\n",
    "    res2 = None\n",
    "    if tree:\n",
    "        res1 = postordereval(tree.getLeftChild())\n",
    "        res2 = postordereval(tree.getRightChild())\n",
    "        if res1 and res2:\n",
    "            return opers[tree.getRootVal()](res1,res2)\n",
    "        else:\n",
    "            return tree.getRootVal()"
   ]
  },
  {
   "cell_type": "code",
   "execution_count": 98,
   "metadata": {
    "scrolled": false
   },
   "outputs": [
    {
     "data": {
      "text/plain": [
       "30"
      ]
     },
     "execution_count": 98,
     "metadata": {},
     "output_type": "execute_result"
    }
   ],
   "source": [
    "# This evaluates the math expression of the tree\n",
    "postordereval(m)"
   ]
  },
  {
   "cell_type": "code",
   "execution_count": 101,
   "metadata": {
    "scrolled": false
   },
   "outputs": [
    {
     "name": "stdout",
     "output_type": "stream",
     "text": [
      "6\n",
      "2\n",
      "8\n",
      "2.0\n"
     ]
    }
   ],
   "source": [
    "# operator function does basic math operations\n",
    "print(operator.add(4,2))\n",
    "print(operator.sub(4,2))\n",
    "print(operator.mul(4,2))\n",
    "print(operator.truediv(4,2))"
   ]
  },
  {
   "cell_type": "code",
   "execution_count": 107,
   "metadata": {
    "scrolled": false
   },
   "outputs": [],
   "source": [
    "# Using inorder, the RootVal is in the middle\n",
    "def printexp(tree):\n",
    "  sVal = \"\"\n",
    "  if tree:\n",
    "      sVal = '(' + printexp(tree.getLeftChild())\n",
    "      sVal = sVal + str(tree.getRootVal())\n",
    "      sVal = sVal + printexp(tree.getRightChild())+')'\n",
    "  return sVal"
   ]
  },
  {
   "cell_type": "code",
   "execution_count": 108,
   "metadata": {
    "scrolled": false
   },
   "outputs": [
    {
     "data": {
      "text/plain": [
       "'(((7)+(3))*((5)-(2)))'"
      ]
     },
     "execution_count": 108,
     "metadata": {},
     "output_type": "execute_result"
    }
   ],
   "source": [
    "printexp(m)"
   ]
  },
  {
   "cell_type": "markdown",
   "metadata": {},
   "source": [
    "## 7.8 Priority Queue with Binary Heap"
   ]
  },
  {
   "cell_type": "markdown",
   "metadata": {},
   "source": [
    "<img src=\"./images/tree_heap.png\" style=\"width: 500px;\" >"
   ]
  },
  {
   "cell_type": "markdown",
   "metadata": {},
   "source": [
    "### Add new item"
   ]
  },
  {
   "cell_type": "markdown",
   "metadata": {},
   "source": [
    "<img src=\"./images/tree_heap_insert.png\" style=\"width: 900px;\" >"
   ]
  },
  {
   "cell_type": "markdown",
   "metadata": {},
   "source": [
    "### Remove min and update property"
   ]
  },
  {
   "cell_type": "markdown",
   "metadata": {},
   "source": [
    "<img src=\"./images/tree_heap_min.png\" style=\"width: 900px;\" >"
   ]
  },
  {
   "cell_type": "markdown",
   "metadata": {},
   "source": [
    "## 7.9 - 7.10 Binary Heap \n",
    "**Heap Structure** <br>\n",
    "- Binary heap is where every node has two children. \n",
    "- Complete binary tree - Every level except for the last has all nodes filled as far left as possible <br>\n",
    "\n",
    "**Rule**: If parent is in position $p$, left child is in $2p$ and right child in $2p+1$. Hence, we can compute parent of any node by simple integer division of the child. <br>\n",
    "\n",
    "**Heap order property**: **Key of parent is always smaller than that of child**. Also, the first value of the list is set to 0. This means that the root of the tree has the smallest value.\n",
    "\n",
    "**Steps to add and maintain Heap structure**\n",
    "- ```insert``` - Append new value to Heap and increase size. \n",
    "- ```percUp``` - Check if value of parent is less than new item, and if not swap its position with that of the parent. Keep doing this.\n",
    "- ```delMin``` - Since min value of tree is at root node, delete that and replace with the last item in the list. Then we need to restore the heap order property by comparing and swapping with the smallest child of the root. ```percDown``` does this.\n",
    "\n",
    "**Build Heap from List**\n",
    "Place the items of the list in a heap and then use the ```perDown``` function to get the structure and order property in place. This can be built in $O(n)$ operations. Sorting can be done in $O(nlogn))$\n"
   ]
  },
  {
   "cell_type": "code",
   "execution_count": 137,
   "metadata": {},
   "outputs": [],
   "source": [
    "class BinHeap:\n",
    "    def __init__(self):\n",
    "        self.heapList = [0]\n",
    "        self.currentSize = 0\n",
    "        \n",
    "    def insert(self,k):\n",
    "        self.heapList.append(k)\n",
    "        self.currentSize = self.currentSize + 1\n",
    "        self.percUp(self.currentSize)\n",
    "    \n",
    "    def percUp(self,i):\n",
    "        while i // 2 > 0:\n",
    "          if self.heapList[i] < self.heapList[i // 2]:\n",
    "             tmp = self.heapList[i // 2]\n",
    "             self.heapList[i // 2] = self.heapList[i]\n",
    "             self.heapList[i] = tmp\n",
    "          i = i // 2\n",
    "    \n",
    "    def delMin(self):\n",
    "        retval = self.heapList[1]\n",
    "        self.heapList[1] = self.heapList[self.currentSize]\n",
    "        self.currentSize = self.currentSize - 1\n",
    "        self.heapList.pop()\n",
    "        self.percDown(1)\n",
    "        return retval\n",
    "    \n",
    "    def percDown(self,i):\n",
    "        while (i * 2) <= self.currentSize:\n",
    "            mc = self.minChild(i)\n",
    "            if self.heapList[i] > self.heapList[mc]:\n",
    "                tmp = self.heapList[i]\n",
    "                self.heapList[i] = self.heapList[mc]\n",
    "                self.heapList[mc] = tmp\n",
    "            i = mc\n",
    "\n",
    "    def minChild(self,i):\n",
    "        if i * 2 + 1 > self.currentSize:\n",
    "            return i * 2\n",
    "        else:\n",
    "            if self.heapList[i*2] < self.heapList[i*2+1]:\n",
    "                return i * 2\n",
    "            else:\n",
    "                return i * 2 + 1\n",
    "            \n",
    "    def buildHeap(self,alist):\n",
    "        i = len(alist) // 2\n",
    "        self.currentSize = len(alist)\n",
    "        self.heapList = [0] + alist[:]\n",
    "        while (i > 0):\n",
    "            self.percDown(i)\n",
    "            i = i - 1\n",
    "            \n",
    "    def getHeap(self):\n",
    "        #print(self.heapList)\n",
    "        return self.heapList"
   ]
  },
  {
   "cell_type": "code",
   "execution_count": 140,
   "metadata": {},
   "outputs": [
    {
     "name": "stdout",
     "output_type": "stream",
     "text": [
      "[0, 2, 3, 6, 5, 9]\n",
      "2\n",
      "3\n",
      "5\n",
      "6\n",
      "9\n"
     ]
    }
   ],
   "source": [
    "bh = BinHeap()\n",
    "bh.buildHeap([9,5,6,2,3])\n",
    "\n",
    "# This is the heap\n",
    "print(bh.getHeap())\n",
    "\n",
    "# Delete min values\n",
    "print(bh.delMin())\n",
    "print(bh.delMin())\n",
    "print(bh.delMin())\n",
    "print(bh.delMin())\n",
    "print(bh.delMin())"
   ]
  }
 ],
 "metadata": {
  "kernelspec": {
   "display_name": "Python 3",
   "language": "python",
   "name": "python3"
  },
  "language_info": {
   "codemirror_mode": {
    "name": "ipython",
    "version": 3
   },
   "file_extension": ".py",
   "mimetype": "text/x-python",
   "name": "python",
   "nbconvert_exporter": "python",
   "pygments_lexer": "ipython3",
   "version": "3.8.5"
  }
 },
 "nbformat": 4,
 "nbformat_minor": 4
}
